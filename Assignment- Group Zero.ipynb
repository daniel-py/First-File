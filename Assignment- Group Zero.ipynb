{
 "cells": [
  {
   "cell_type": "markdown",
   "metadata": {},
   "source": [
    "# Assignment \n",
    "\n",
    "Given input = B4A1D3, write a program to sort the alphabets of the string; so alphabets come before numbers and output = ABD134"
   ]
  },
  {
   "cell_type": "markdown",
   "metadata": {},
   "source": [
    "# Solution 1:\n",
    "I got this solution from the internet, yeah, but it seemed too complicated... "
   ]
  },
  {
   "cell_type": "code",
   "execution_count": 5,
   "metadata": {},
   "outputs": [
    {
     "data": {
      "text/plain": [
       "['A', 'B', 'D', 1, 3, 4]"
      ]
     },
     "execution_count": 5,
     "metadata": {},
     "output_type": "execute_result"
    }
   ],
   "source": [
    "a = ['B', 4, 'A', 1, 'D', 3]\n",
    "sorted([i for i in a if not str(i).isdigit()])+sorted([i for i in a if str(i).isdigit()])"
   ]
  },
  {
   "cell_type": "markdown",
   "metadata": {},
   "source": [
    "# Solution 2:\n",
    "...so, I decided to work on it. After a long while, I was able to come up with a much more simpler code :D Thank God"
   ]
  },
  {
   "cell_type": "code",
   "execution_count": 17,
   "metadata": {},
   "outputs": [],
   "source": [
    "c = ['B', 4, 'A', 1, 'D', 3]"
   ]
  },
  {
   "cell_type": "code",
   "execution_count": 22,
   "metadata": {},
   "outputs": [
    {
     "data": {
      "text/plain": [
       "['A', 'B', 'D', 1, 3, 4]"
      ]
     },
  
